{
 "cells": [
  {
   "cell_type": "code",
   "execution_count": 1,
   "metadata": {
    "collapsed": true
   },
   "outputs": [],
   "source": [
    "import numpy as np\n",
    "import os\n",
    "import pandas as pd\n",
    "import matplotlib.pyplot as plt\n",
    "%matplotlib inline"
   ]
  },
  {
   "cell_type": "code",
   "execution_count": 14,
   "metadata": {},
   "outputs": [],
   "source": [
    "taqinfo = pd.read_excel(r\"C:\\Users\\lenovo\\Desktop\\Algo Trading\\HW\\HW1\\s_p500.xlsx\")"
   ]
  },
  {
   "cell_type": "code",
   "execution_count": 15,
   "metadata": {},
   "outputs": [],
   "source": [
    "taqinfo = taqinfo[taqinfo['Names Date'].notnull()]\n",
    "_names = np.array(['Ticker Symbol', 'Company Name', 'Names Date', 'Cumulative Factor to Adjust Prices',\n",
    "                          'Cumulative Factor to Adjust Shares/Vol'])\n",
    "taqinfo = taqinfo[_names]"
   ]
  },
  {
   "cell_type": "code",
   "execution_count": 16,
   "metadata": {
    "collapsed": false
   },
   "outputs": [],
   "source": [
    "tickers = set(taqinfo['Ticker Symbol'].dropna())"
   ]
  },
  {
   "cell_type": "code",
   "execution_count": 17,
   "metadata": {},
   "outputs": [],
   "source": [
    "dates = set(map(lambda x: str(int(x)), taqinfo['Names Date']))"
   ]
  },
  {
   "cell_type": "code",
   "execution_count": 26,
   "metadata": {},
   "outputs": [],
   "source": [
    "path = 'I:\\\\R\\\\quotes\\\\'\n",
    "for i in dates:\n",
    "    files = os.listdir(path+i+\"\\\\\")\n",
    "    files = set(map(lambda x:x.split('_')[0], files))\n",
    "    for j in tickers:\n",
    "        if not j in files:\n",
    "            print('{0} not found at {1}'.format(\n",
    "                j,\n",
    "                i\n",
    "            ))\n",
    "            os.rename(path+i+\"\\\\\"+name_dic_rev[j]+\"_quotes.binRQ\", \n",
    "                      path+i+\"\\\\\"+j+\"_quotes.binRQ\")"
   ]
  },
  {
   "cell_type": "code",
   "execution_count": 27,
   "metadata": {},
   "outputs": [],
   "source": [
    "path = 'I:\\\\R\\\\trades\\\\'\n",
    "for i in dates:\n",
    "    files = os.listdir(path+i+\"\\\\\")\n",
    "    files = set(map(lambda x:x.split('_')[0], files))\n",
    "    for j in tickers:\n",
    "        if not j in files:\n",
    "            print('{0} not found at {1}'.format(\n",
    "                j,\n",
    "                i\n",
    "            ))\n",
    "            os.rename(path+i+\"\\\\\"+name_dic_rev[j]+\"_trades.binRT\", \n",
    "                      path+i+\"\\\\\"+j+\"_trades.binRT\")"
   ]
  },
  {
   "cell_type": "code",
   "execution_count": 21,
   "metadata": {},
   "outputs": [],
   "source": [
    "name_dic = {'JAVA':\"SUNW\", \"MX\":\"MXM\", \"CMCS\":\"CMCSA\"}\n",
    "name_dic_rev = {\"SUNW\":\"JAVA\", 'MXM':\"MX\", \"CMCSA\":\"CMCS\"}"
   ]
  },
  {
   "cell_type": "markdown",
   "metadata": {},
   "source": [
    "$24x$"
   ]
  },
  {
   "cell_type": "code",
   "execution_count": null,
   "metadata": {},
   "outputs": [],
   "source": []
  }
 ],
 "metadata": {
  "kernelspec": {
   "display_name": "Python 2",
   "language": "python",
   "name": "python2"
  },
  "language_info": {
   "codemirror_mode": {
    "name": "ipython",
    "version": 2
   },
   "file_extension": ".py",
   "mimetype": "text/x-python",
   "name": "python",
   "nbconvert_exporter": "python",
   "pygments_lexer": "ipython2",
   "version": "2.7.6"
  }
 },
 "nbformat": 4,
 "nbformat_minor": 0
}
